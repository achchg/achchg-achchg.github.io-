{
 "cells": [
  {
   "cell_type": "markdown",
   "id": "1c3f70ed",
   "metadata": {},
   "source": [
    "## MC Simulation in code\n",
    "Packages used:\n",
    "1. `gensim.word2vec`: https://radimrehurek.com/gensim/models/word2vec.html The Gensim documentation is very nicely written.\n",
    "\n",
    "2. `pymed`: https://github.com/gijswobben/pymed\n",
    "\n",
    "A question that I read today: \"How to estimate $\\pi$?\""
   ]
  },
  {
   "cell_type": "code",
   "execution_count": 1,
   "id": "44bc50b0",
   "metadata": {
    "scrolled": false
   },
   "outputs": [],
   "source": [
    "import pandas as pd\n",
    "from pymed import PubMed\n",
    "import numpy as np\n",
    "from gensim.models import Word2Vec\n",
    "import inspect\n",
    "# print(inspect.getsource(Word2Vec))"
   ]
  },
  {
   "cell_type": "markdown",
   "id": "d4b8ec62",
   "metadata": {},
   "source": [
    "### Step 1 - "
   ]
  },
  {
   "cell_type": "code",
   "execution_count": 2,
   "id": "2f9f3a73",
   "metadata": {},
   "outputs": [],
   "source": []
  }
 ],
 "metadata": {
  "kernelspec": {
   "display_name": "cs224n",
   "language": "python",
   "name": "cs224n"
  },
  "language_info": {
   "codemirror_mode": {
    "name": "ipython",
    "version": 3
   },
   "file_extension": ".py",
   "mimetype": "text/x-python",
   "name": "python",
   "nbconvert_exporter": "python",
   "pygments_lexer": "ipython3",
   "version": "3.7.11"
  }
 },
 "nbformat": 4,
 "nbformat_minor": 5
}
