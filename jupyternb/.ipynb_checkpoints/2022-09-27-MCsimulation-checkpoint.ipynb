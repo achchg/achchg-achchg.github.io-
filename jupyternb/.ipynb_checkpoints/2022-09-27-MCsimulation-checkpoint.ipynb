{
 "cells": [
  {
   "cell_type": "markdown",
   "id": "1c3f70ed",
   "metadata": {},
   "source": [
    "## MC Simulation in code\n",
    "A question that I read today: \"How to estimate $\\pi$?\""
   ]
  },
  {
   "cell_type": "code",
   "execution_count": 21,
   "id": "44bc50b0",
   "metadata": {
    "scrolled": false
   },
   "outputs": [],
   "source": [
    "import numpy as np\n",
    "import matplotlib.pyplot as plt"
   ]
  },
  {
   "cell_type": "markdown",
   "id": "d4b8ec62",
   "metadata": {},
   "source": [
    "### Steps \n",
    "1. sample N Cartesian coordinates from a square uniformly\n",
    "2. count the number of samples (N_c) which simultaneously appeared in the circle ($x^2 + y^2 < R^2$)\n",
    "3. As the relative area of the circle vs. the square is fixed at $\\frac{\\pi}{4}$, the estimate of $\\pi$ is ($4\\frac{N_c}{N}$)"
   ]
  },
  {
   "cell_type": "code",
   "execution_count": 12,
   "id": "2f9f3a73",
   "metadata": {},
   "outputs": [],
   "source": [
    "R = 1\n",
    "N = 1000\n",
    "\n",
    "def estimate_pi(R, N):\n",
    "    \"\"\"\n",
    "    Estimate pi from simulation from circle\n",
    "    N: Number of simulation/samples\n",
    "    R: radius of the circle\n",
    "    \"\"\"\n",
    "    \n",
    "    x = np.random.uniform(-R, R, N)\n",
    "    y = np.random.uniform(-R, R, N)\n",
    "    in_circle = x**2 + y**2\n",
    "\n",
    "    circle_count = 0\n",
    "    for i in range(N):\n",
    "        if in_circle[i] < R**2:\n",
    "            circle_count += 1\n",
    "\n",
    "    pi_hat = 4 * circle_count / N\n",
    "    \n",
    "    return pi_hat"
   ]
  },
  {
   "cell_type": "code",
   "execution_count": 20,
   "id": "d86a1b32",
   "metadata": {},
   "outputs": [],
   "source": [
    "pi_hat = []\n",
    "range_N = [1000, 5000, 10000, 50000, 1000000, 5000000, 10000000, 50000000]\n",
    "\n",
    "for N in range_N:\n",
    "    pi_hat.append(estimate_pi(R, N))"
   ]
  },
  {
   "cell_type": "code",
   "execution_count": 22,
   "id": "ebe337f8",
   "metadata": {},
   "outputs": [
    {
     "data": {
      "text/plain": [
       "[3.264, 3.1448, 3.1136, 3.14088, 3.141192, 3.1405408, 3.1416956, 3.14125776]"
      ]
     },
     "execution_count": 22,
     "metadata": {},
     "output_type": "execute_result"
    }
   ],
   "source": [
    "pi_hat"
   ]
  },
  {
   "cell_type": "code",
   "execution_count": 36,
   "id": "57e8605e",
   "metadata": {},
   "outputs": [
    {
     "data": {
      "image/png": "[encoded data removed]",
      "text/plain": [
       "<Figure size 432x288 with 1 Axes>"
      ]
     },
     "metadata": {
      "needs_background": "light"
     },
     "output_type": "display_data"
    }
   ],
   "source": [
    "plt.scatter(range_N, pi_hat)\n",
    "plt.show()"
   ]
  },
  {
   "cell_type": "code",
   "execution_count": null,
   "id": "51326f65",
   "metadata": {},
   "outputs": [],
   "source": []
  }
 ],
 "metadata": {
  "kernelspec": {
   "display_name": "cs224n",
   "language": "python",
   "name": "cs224n"
  },
  "language_info": {
   "codemirror_mode": {
    "name": "ipython",
    "version": 3
   },
   "file_extension": ".py",
   "mimetype": "text/x-python",
   "name": "python",
   "nbconvert_exporter": "python",
   "pygments_lexer": "ipython3",
   "version": "3.7.11"
  }
 },
 "nbformat": 4,
 "nbformat_minor": 5
}
