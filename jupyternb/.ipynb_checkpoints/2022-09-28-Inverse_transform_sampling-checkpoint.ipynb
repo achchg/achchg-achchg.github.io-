{
 "cells": [
  {
   "cell_type": "markdown",
   "id": "1c3f70ed",
   "metadata": {},
   "source": [
    "## Inverse transform sampling in code\n",
    "A question that I read today: \"How to uniformly sample from a circle?\""
   ]
  },
  {
   "cell_type": "code",
   "execution_count": 6,
   "id": "44bc50b0",
   "metadata": {
    "scrolled": false
   },
   "outputs": [],
   "source": [
    "import numpy as np\n",
    "import math\n",
    "import matplotlib.pyplot as plt"
   ]
  },
  {
   "cell_type": "markdown",
   "id": "d4b8ec62",
   "metadata": {},
   "source": [
    "### Steps \n",
    "1. sample N Cartesian coordinates from a square uniformly\n",
    "2. count the number of samples (N_c) which simultaneously appeared in the circle ($x^2 + y^2 < R^2$)\n",
    "3. As the relative area of the circle vs. the square is fixed at $\\frac{\\pi}{4}$, the estimate of $\\pi$ is ($4\\frac{N_c}{N}$)"
   ]
  },
  {
   "cell_type": "code",
   "execution_count": 11,
   "id": "2f9f3a73",
   "metadata": {},
   "outputs": [],
   "source": [
    "R = 1\n",
    "N = 1000\n",
    "\n",
    "def random_circle_sample(R, N):\n",
    "    \"\"\"\n",
    "    Estimate pi from simulation from circle\n",
    "    N: Number of simulation/samples\n",
    "    R: radius of the circle\n",
    "    \"\"\"\n",
    "    \n",
    "    u = np.random.uniform(0, 1, N)\n",
    "    theta = 2 * math.pi * u\n",
    "    r = R * np.sqrt(u)\n",
    "    \n",
    "    y = r*np.sin(theta)\n",
    "    x = r*np.cos(theta)\n",
    "    \n",
    "    plt.scatter(x, y)\n",
    "    plt.show()\n",
    "    "
   ]
  },
  {
   "cell_type": "code",
   "execution_count": 12,
   "id": "ce42c9e4",
   "metadata": {},
   "outputs": [
    {
     "data": {
      "image/png": "[encoded data removed]",
      "text/plain": [
       "<Figure size 432x288 with 1 Axes>"
      ]
     },
     "metadata": {
      "needs_background": "light"
     },
     "output_type": "display_data"
    }
   ],
   "source": [
    "random_circle_sample(1, 1000)"
   ]
  },
  {
   "cell_type": "code",
   "execution_count": 22,
   "id": "b84154e4",
   "metadata": {},
   "outputs": [
    {
     "data": {
      "text/plain": [
       "[3.264, 3.1448, 3.1136, 3.14088, 3.141192, 3.1405408, 3.1416956, 3.14125776]"
      ]
     },
     "execution_count": 22,
     "metadata": {},
     "output_type": "execute_result"
    }
   ],
   "source": [
    "pi_hat"
   ]
  },
  {
   "cell_type": "code",
   "execution_count": 31,
   "id": "a7d06231",
   "metadata": {},
   "outputs": [
    {
     "data": {
      "image/png": "[encoded data removed]",
      "text/plain": [
       "<Figure size 432x288 with 1 Axes>"
      ]
     },
     "metadata": {
      "needs_background": "light"
     },
     "output_type": "display_data"
    }
   ],
   "source": []
  }
 ],
 "metadata": {
  "kernelspec": {
   "display_name": "cs224n",
   "language": "python",
   "name": "cs224n"
  },
  "language_info": {
   "codemirror_mode": {
    "name": "ipython",
    "version": 3
   },
   "file_extension": ".py",
   "mimetype": "text/x-python",
   "name": "python",
   "nbconvert_exporter": "python",
   "pygments_lexer": "ipython3",
   "version": "3.7.11"
  }
 },
 "nbformat": 4,
 "nbformat_minor": 5
}
