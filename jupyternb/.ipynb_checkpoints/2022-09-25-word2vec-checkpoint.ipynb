{
 "cells": [
  {
   "cell_type": "markdown",
   "id": "1c3f70ed",
   "metadata": {},
   "source": [
    "## word2vec in code\n",
    "Packages used:\n",
    "1. `gensim.word2vec`: https://radimrehurek.com/gensim/models/word2vec.html The Gensim documentation is very nicely written.\n",
    "\n",
    "2. `pymed`: https://github.com/gijswobben/pymed"
   ]
  },
  {
   "cell_type": "markdown",
   "id": "eee223ca",
   "metadata": {},
   "source": [
    "### Below code cited and modified from https://stackoverflow.com/questions/72006411/pubmed-fetch-article-details-to-a-daframe"
   ]
  },
  {
   "cell_type": "code",
   "execution_count": 40,
   "id": "2763061d",
   "metadata": {},
   "outputs": [
    {
     "name": "stdout",
     "output_type": "stream",
     "text": [
      "dict_keys(['pubmed_id', 'title', 'abstract', 'keywords', 'journal', 'publication_date', 'authors', 'methods', 'conclusions', 'results', 'copyrights', 'doi', 'xml'])\n"
     ]
    }
   ],
   "source": [
    "import pandas as pd\n",
    "from pymed import PubMed\n",
    "import numpy as np\n",
    "\n",
    "search_term = 'Neonicotinoids'\n",
    "max_results = 5000\n",
    "\n",
    "def pubmed_searcher(search_term, max_results):\n",
    "    pubmed = PubMed(tool=\"PubMedSearcher\", email=\"myemail@ccc.com\")\n",
    "\n",
    "\n",
    "    ## PUT YOUR SEARCH TERM HERE ##\n",
    "    results = pubmed.query(search_term, max_results)\n",
    "    articleList = []\n",
    "    articleInfo = []\n",
    "\n",
    "    for article in results:\n",
    "\n",
    "    # Print the type of object we've found (can be either PubMedBookArticle or PubMedArticle).\n",
    "    # We need to convert it to dictionary with available function\n",
    "        articleDict = article.toDict()\n",
    "        articleList.append(articleDict)\n",
    "\n",
    "    # Generate list of dict records which will hold all article details that could be fetch from PUBMED API\n",
    "    for article in articleList:\n",
    "        \n",
    "    #Sometimes article['pubmed_id'] contains list separated with comma - take first pubmedId in that list - thats article pubmedId\n",
    "        pubmedId = article['pubmed_id'].partition('\\n')[0]\n",
    "        \n",
    "        # Append article info to dictionary\n",
    "        if 'keywords' in article.keys() and len(article['keywords']) != 0:\n",
    "            articleInfo.append({u'pubmed_id':pubmedId,\n",
    "                                u'publication_date':article['publication_date'], \n",
    "                                u'authors':article['authors'],\n",
    "                                u'keywords':article['keywords']})\n",
    "    print('available keys from pubmed API: ' + article.keys())\n",
    "    df=pd.json_normalize(articleInfo)\n"
   ]
  },
  {
   "cell_type": "code",
   "execution_count": 42,
   "id": "dd741ace",
   "metadata": {},
   "outputs": [
    {
     "data": {
      "text/html": [
       "<div>\n",
       "<style scoped>\n",
       "    .dataframe tbody tr th:only-of-type {\n",
       "        vertical-align: middle;\n",
       "    }\n",
       "\n",
       "    .dataframe tbody tr th {\n",
       "        vertical-align: top;\n",
       "    }\n",
       "\n",
       "    .dataframe thead th {\n",
       "        text-align: right;\n",
       "    }\n",
       "</style>\n",
       "<table border=\"1\" class=\"dataframe\">\n",
       "  <thead>\n",
       "    <tr style=\"text-align: right;\">\n",
       "      <th></th>\n",
       "      <th>pubmed_id</th>\n",
       "      <th>publication_date</th>\n",
       "      <th>authors</th>\n",
       "      <th>keywords</th>\n",
       "    </tr>\n",
       "  </thead>\n",
       "  <tbody>\n",
       "    <tr>\n",
       "      <th>0</th>\n",
       "      <td>36149570</td>\n",
       "      <td>2022-09-24</td>\n",
       "      <td>[{'lastname': 'Zhou', 'firstname': 'Hong-Xia',...</td>\n",
       "      <td>[Floral nectar, Neonicotinoid, Pollinators, Sa...</td>\n",
       "    </tr>\n",
       "    <tr>\n",
       "      <th>1</th>\n",
       "      <td>36144866</td>\n",
       "      <td>2022-09-24</td>\n",
       "      <td>[{'lastname': 'Lu', 'firstname': 'Xingxing', '...</td>\n",
       "      <td>[Flupyrimin derivatives, low bee-toxicity, mol...</td>\n",
       "    </tr>\n",
       "    <tr>\n",
       "      <th>2</th>\n",
       "      <td>36140100</td>\n",
       "      <td>2022-09-24</td>\n",
       "      <td>[{'lastname': 'Jiao', 'firstname': 'Shasha', '...</td>\n",
       "      <td>[broad-specific mAb, immunochromatography, neo...</td>\n",
       "    </tr>\n",
       "    <tr>\n",
       "      <th>3</th>\n",
       "      <td>36127060</td>\n",
       "      <td>2022-09-21</td>\n",
       "      <td>[{'lastname': 'Zhang', 'firstname': 'Bai-Zhong...</td>\n",
       "      <td>[Imidacloprid resistance, Sitobion miscanthi, ...</td>\n",
       "    </tr>\n",
       "    <tr>\n",
       "      <th>4</th>\n",
       "      <td>36127049</td>\n",
       "      <td>2022-09-21</td>\n",
       "      <td>[{'lastname': 'Mezei', 'firstname': 'Imre', 'i...</td>\n",
       "      <td>[Green peach aphid, Insecticide and neonicotin...</td>\n",
       "    </tr>\n",
       "  </tbody>\n",
       "</table>\n",
       "</div>"
      ],
      "text/plain": [
       "  pubmed_id publication_date  \\\n",
       "0  36149570       2022-09-24   \n",
       "1  36144866       2022-09-24   \n",
       "2  36140100       2022-09-24   \n",
       "3  36127060       2022-09-21   \n",
       "4  36127049       2022-09-21   \n",
       "\n",
       "                                             authors  \\\n",
       "0  [{'lastname': 'Zhou', 'firstname': 'Hong-Xia',...   \n",
       "1  [{'lastname': 'Lu', 'firstname': 'Xingxing', '...   \n",
       "2  [{'lastname': 'Jiao', 'firstname': 'Shasha', '...   \n",
       "3  [{'lastname': 'Zhang', 'firstname': 'Bai-Zhong...   \n",
       "4  [{'lastname': 'Mezei', 'firstname': 'Imre', 'i...   \n",
       "\n",
       "                                            keywords  \n",
       "0  [Floral nectar, Neonicotinoid, Pollinators, Sa...  \n",
       "1  [Flupyrimin derivatives, low bee-toxicity, mol...  \n",
       "2  [broad-specific mAb, immunochromatography, neo...  \n",
       "3  [Imidacloprid resistance, Sitobion miscanthi, ...  \n",
       "4  [Green peach aphid, Insecticide and neonicotin...  "
      ]
     },
     "execution_count": 42,
     "metadata": {},
     "output_type": "execute_result"
    }
   ],
   "source": [
    "df.head()"
   ]
  },
  {
   "cell_type": "code",
   "execution_count": 7,
   "id": "9fa4e7a7",
   "metadata": {},
   "outputs": [
    {
     "data": {
      "text/plain": [
       "dict_keys(['lastname', 'firstname', 'initials', 'affiliation'])"
      ]
     },
     "execution_count": 7,
     "metadata": {},
     "output_type": "execute_result"
    }
   ],
   "source": [
    "df['authors'].iloc[0][0].keys()"
   ]
  },
  {
   "cell_type": "code",
   "execution_count": 43,
   "id": "ce715f98",
   "metadata": {},
   "outputs": [
    {
     "data": {
      "text/plain": [
       "2462"
      ]
     },
     "execution_count": 43,
     "metadata": {},
     "output_type": "execute_result"
    }
   ],
   "source": [
    "len(df)"
   ]
  },
  {
   "cell_type": "code",
   "execution_count": 45,
   "id": "15ccf245",
   "metadata": {},
   "outputs": [],
   "source": [
    "from gensim.models import Word2Vec"
   ]
  },
  {
   "cell_type": "code",
   "execution_count": 46,
   "id": "89175561",
   "metadata": {},
   "outputs": [
    {
     "data": {
      "text/plain": [
       "<gensim.models.word2vec.Word2Vec at 0x7f9c8657f1d0>"
      ]
     },
     "execution_count": 46,
     "metadata": {},
     "output_type": "execute_result"
    }
   ],
   "source": [
    "model = Word2Vec(sentences=df['keywords'], vector_size=100, window=5, min_count=1, workers=4)\n",
    "model"
   ]
  },
  {
   "cell_type": "code",
   "execution_count": 47,
   "id": "33b7764b",
   "metadata": {},
   "outputs": [],
   "source": [
    "vector = model.wv['imidacloprid']  # get numpy vector of a word"
   ]
  },
  {
   "cell_type": "code",
   "execution_count": 48,
   "id": "5082924d",
   "metadata": {},
   "outputs": [
    {
     "data": {
      "text/plain": [
       "array([-0.01010708,  0.01351375,  0.00074349, -0.00057339,  0.00299313,\n",
       "       -0.01134256,  0.00504032,  0.01545781,  0.00340838, -0.0085745 ,\n",
       "        0.00796269, -0.00192529,  0.00457482, -0.00505163,  0.01059754,\n",
       "       -0.00652867,  0.01281002, -0.00975233, -0.00779032, -0.00096461,\n",
       "        0.00579988, -0.0010256 ,  0.01431772,  0.00701831, -0.01109368,\n",
       "        0.0032349 ,  0.00274159,  0.00297145, -0.0008881 ,  0.00190335,\n",
       "        0.00524809, -0.00367374, -0.00656906, -0.00827771,  0.00251864,\n",
       "        0.00961471,  0.01104125, -0.00836937, -0.01288685,  0.00510887,\n",
       "        0.0042891 ,  0.00030601,  0.00494902, -0.00254613,  0.01097928,\n",
       "       -0.0001704 , -0.00224076, -0.00410447, -0.00095617,  0.00086192,\n",
       "        0.00582085, -0.00158261, -0.01212031, -0.01195711, -0.00917481,\n",
       "        0.00231709,  0.00453065,  0.01020761,  0.00395687, -0.00300088,\n",
       "        0.00176286,  0.00472081,  0.00715456,  0.00206285,  0.00320365,\n",
       "       -0.00095005, -0.00018021,  0.01084903, -0.00635162, -0.00679072,\n",
       "        0.00432856, -0.00169786,  0.00299354,  0.00790371,  0.00105077,\n",
       "       -0.0029779 , -0.00431135,  0.00823986, -0.00660158,  0.0019401 ,\n",
       "       -0.009067  ,  0.00393444,  0.00273792,  0.00713678, -0.00195055,\n",
       "       -0.00392216,  0.01186828,  0.00977575,  0.00152395, -0.00796863,\n",
       "       -0.00131584,  0.0001155 ,  0.000873  , -0.00297971,  0.01695468,\n",
       "        0.00267127,  0.01004189, -0.01147832, -0.00232606, -0.00361142],\n",
       "      dtype=float32)"
      ]
     },
     "execution_count": 48,
     "metadata": {},
     "output_type": "execute_result"
    }
   ],
   "source": [
    "vector"
   ]
  },
  {
   "cell_type": "markdown",
   "id": "d1fb19aa",
   "metadata": {},
   "source": [
    "We can reduce the image channels from 3 to 1 first, to simplify the original matrix ($X$):"
   ]
  },
  {
   "cell_type": "code",
   "execution_count": 50,
   "id": "e0bbf05d",
   "metadata": {},
   "outputs": [
    {
     "data": {
      "text/plain": [
       "[('Chlorpyrifos-E', 0.38085365295410156),\n",
       " ('Bound residue', 0.3651526868343353),\n",
       " ('Pesticides', 0.3536563813686371),\n",
       " ('Oxidative stress', 0.3431783616542816),\n",
       " ('Detection', 0.3222809135913849),\n",
       " ('Neonicotinoids', 0.3202517330646515),\n",
       " ('irradiation synthesis', 0.3180220425128937),\n",
       " ('high mobility group box protein 1', 0.3162441551685333),\n",
       " ('Molecular ecotoxicology', 0.3143049478530884),\n",
       " ('Colias philodice', 0.3126586377620697)]"
      ]
     },
     "execution_count": 50,
     "metadata": {},
     "output_type": "execute_result"
    }
   ],
   "source": [
    "sims = model.wv.most_similar('imidacloprid', topn=10)  # get other similar words\n",
    "sims"
   ]
  }
 ],
 "metadata": {
  "kernelspec": {
   "display_name": "cs224n",
   "language": "python",
   "name": "cs224n"
  },
  "language_info": {
   "codemirror_mode": {
    "name": "ipython",
    "version": 3
   },
   "file_extension": ".py",
   "mimetype": "text/x-python",
   "name": "python",
   "nbconvert_exporter": "python",
   "pygments_lexer": "ipython3",
   "version": "3.7.11"
  }
 },
 "nbformat": 4,
 "nbformat_minor": 5
}
