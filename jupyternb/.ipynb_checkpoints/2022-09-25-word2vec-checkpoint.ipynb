{
 "cells": [
  {
   "cell_type": "markdown",
   "id": "1c3f70ed",
   "metadata": {},
   "source": [
    "## word2vec in code\n",
    "Packages used:\n",
    "1. `gensim.word2vec`: https://radimrehurek.com/gensim/models/word2vec.html The Gensim documentation is very nicely written.\n",
    "\n",
    "2. `pymed`: https://github.com/gijswobben/pymed\n",
    "\n",
    "I'd like to make a word2vec model on pubmed articles' keywords with the first 5000 `Neonicotinoids` qurery."
   ]
  },
  {
   "cell_type": "code",
   "execution_count": 1,
   "id": "44bc50b0",
   "metadata": {
    "scrolled": false
   },
   "outputs": [],
   "source": [
    "import pandas as pd\n",
    "from pymed import PubMed\n",
    "import numpy as np\n",
    "from gensim.models import Word2Vec\n",
    "import inspect\n",
    "# print(inspect.getsource(Word2Vec))"
   ]
  },
  {
   "cell_type": "markdown",
   "id": "d4b8ec62",
   "metadata": {},
   "source": [
    "### Pubmed API call for querying keywords of neonicotinoids associated articles\n",
    "\n",
    "Below code cited and modified from https://stackoverflow.com/questions/72006411/pubmed-fetch-article-details-to-a-daframe"
   ]
  },
  {
   "cell_type": "code",
   "execution_count": 2,
   "id": "2f9f3a73",
   "metadata": {},
   "outputs": [],
   "source": [
    "search_term = 'Neonicotinoids'\n",
    "max_results = 5000\n",
    "\n",
    "def pubmed_searcher(search_term, max_results):\n",
    "    '''\n",
    "    Search max_results # of Pubmed articles with the query (search_term)\n",
    "    '''\n",
    "    pubmed = PubMed(tool=\"PubMedSearcher\", email=\"myemail@ccc.com\")\n",
    "\n",
    "    ## PUT YOUR SEARCH TERM HERE ##\n",
    "    results = pubmed.query(search_term, max_results)\n",
    "    articleList = []\n",
    "    articleInfo = []\n",
    "\n",
    "    for article in results:\n",
    "\n",
    "    # Print the type of object we've found (can be either PubMedBookArticle or PubMedArticle).\n",
    "    # We need to convert it to dictionary with available function\n",
    "        articleDict = article.toDict()\n",
    "        articleList.append(articleDict)\n",
    "\n",
    "    # Generate list of dict records which will hold all article details that could be fetch from PUBMED API\n",
    "    for article in articleList:\n",
    "        \n",
    "    #Sometimes article['pubmed_id'] contains list separated with comma - take first pubmedId in that list - thats article pubmedId\n",
    "        pubmedId = article['pubmed_id'].partition('\\n')[0]\n",
    "        \n",
    "        # Append article info to dictionary\n",
    "        if 'keywords' in article.keys() and len(article['keywords']) != 0:\n",
    "            articleInfo.append({u'pubmed_id':pubmedId,\n",
    "                                u'publication_date':article['publication_date'], \n",
    "                                u'authors':article['authors'],\n",
    "                                u'keywords':article['keywords']})\n",
    "            \n",
    "    print('available keys from pubmed API: ' + str(article.keys()))\n",
    "    \n",
    "    df=pd.json_normalize(articleInfo)\n",
    "    \n",
    "    return df\n"
   ]
  },
  {
   "cell_type": "code",
   "execution_count": 3,
   "id": "8e4b7cd3",
   "metadata": {},
   "outputs": [
    {
     "name": "stdout",
     "output_type": "stream",
     "text": [
      "available keys from pubmed API: dict_keys(['pubmed_id', 'title', 'abstract', 'keywords', 'journal', 'publication_date', 'authors', 'methods', 'conclusions', 'results', 'copyrights', 'doi', 'xml'])\n"
     ]
    },
    {
     "data": {
      "text/html": [
       "<div>\n",
       "<style scoped>\n",
       "    .dataframe tbody tr th:only-of-type {\n",
       "        vertical-align: middle;\n",
       "    }\n",
       "\n",
       "    .dataframe tbody tr th {\n",
       "        vertical-align: top;\n",
       "    }\n",
       "\n",
       "    .dataframe thead th {\n",
       "        text-align: right;\n",
       "    }\n",
       "</style>\n",
       "<table border=\"1\" class=\"dataframe\">\n",
       "  <thead>\n",
       "    <tr style=\"text-align: right;\">\n",
       "      <th></th>\n",
       "      <th>pubmed_id</th>\n",
       "      <th>publication_date</th>\n",
       "      <th>authors</th>\n",
       "      <th>keywords</th>\n",
       "    </tr>\n",
       "  </thead>\n",
       "  <tbody>\n",
       "    <tr>\n",
       "      <th>0</th>\n",
       "      <td>36149570</td>\n",
       "      <td>2022-09-24</td>\n",
       "      <td>[{'lastname': 'Zhou', 'firstname': 'Hong-Xia',...</td>\n",
       "      <td>[Floral nectar, Neonicotinoid, Pollinators, Sa...</td>\n",
       "    </tr>\n",
       "    <tr>\n",
       "      <th>1</th>\n",
       "      <td>36144866</td>\n",
       "      <td>2022-09-24</td>\n",
       "      <td>[{'lastname': 'Lu', 'firstname': 'Xingxing', '...</td>\n",
       "      <td>[Flupyrimin derivatives, low bee-toxicity, mol...</td>\n",
       "    </tr>\n",
       "    <tr>\n",
       "      <th>2</th>\n",
       "      <td>36140100</td>\n",
       "      <td>2022-09-24</td>\n",
       "      <td>[{'lastname': 'Jiao', 'firstname': 'Shasha', '...</td>\n",
       "      <td>[broad-specific mAb, immunochromatography, neo...</td>\n",
       "    </tr>\n",
       "    <tr>\n",
       "      <th>3</th>\n",
       "      <td>36127060</td>\n",
       "      <td>2022-09-21</td>\n",
       "      <td>[{'lastname': 'Zhang', 'firstname': 'Bai-Zhong...</td>\n",
       "      <td>[Imidacloprid resistance, Sitobion miscanthi, ...</td>\n",
       "    </tr>\n",
       "    <tr>\n",
       "      <th>4</th>\n",
       "      <td>36127049</td>\n",
       "      <td>2022-09-21</td>\n",
       "      <td>[{'lastname': 'Mezei', 'firstname': 'Imre', 'i...</td>\n",
       "      <td>[Green peach aphid, Insecticide and neonicotin...</td>\n",
       "    </tr>\n",
       "  </tbody>\n",
       "</table>\n",
       "</div>"
      ],
      "text/plain": [
       "  pubmed_id publication_date  \\\n",
       "0  36149570       2022-09-24   \n",
       "1  36144866       2022-09-24   \n",
       "2  36140100       2022-09-24   \n",
       "3  36127060       2022-09-21   \n",
       "4  36127049       2022-09-21   \n",
       "\n",
       "                                             authors  \\\n",
       "0  [{'lastname': 'Zhou', 'firstname': 'Hong-Xia',...   \n",
       "1  [{'lastname': 'Lu', 'firstname': 'Xingxing', '...   \n",
       "2  [{'lastname': 'Jiao', 'firstname': 'Shasha', '...   \n",
       "3  [{'lastname': 'Zhang', 'firstname': 'Bai-Zhong...   \n",
       "4  [{'lastname': 'Mezei', 'firstname': 'Imre', 'i...   \n",
       "\n",
       "                                            keywords  \n",
       "0  [Floral nectar, Neonicotinoid, Pollinators, Sa...  \n",
       "1  [Flupyrimin derivatives, low bee-toxicity, mol...  \n",
       "2  [broad-specific mAb, immunochromatography, neo...  \n",
       "3  [Imidacloprid resistance, Sitobion miscanthi, ...  \n",
       "4  [Green peach aphid, Insecticide and neonicotin...  "
      ]
     },
     "execution_count": 3,
     "metadata": {},
     "output_type": "execute_result"
    }
   ],
   "source": [
    "# Example output\n",
    "df = pubmed_searcher(search_term, max_results)\n",
    "df.head()"
   ]
  },
  {
   "cell_type": "markdown",
   "id": "e90b28ab",
   "metadata": {},
   "source": [
    "We see that the keywords were in both upper and lower cases terms. Therefore, make simple pre-processing here to lowercase every word."
   ]
  },
  {
   "cell_type": "code",
   "execution_count": 4,
   "id": "2122bb46",
   "metadata": {},
   "outputs": [
    {
     "data": {
      "text/html": [
       "<div>\n",
       "<style scoped>\n",
       "    .dataframe tbody tr th:only-of-type {\n",
       "        vertical-align: middle;\n",
       "    }\n",
       "\n",
       "    .dataframe tbody tr th {\n",
       "        vertical-align: top;\n",
       "    }\n",
       "\n",
       "    .dataframe thead th {\n",
       "        text-align: right;\n",
       "    }\n",
       "</style>\n",
       "<table border=\"1\" class=\"dataframe\">\n",
       "  <thead>\n",
       "    <tr style=\"text-align: right;\">\n",
       "      <th></th>\n",
       "      <th>pubmed_id</th>\n",
       "      <th>publication_date</th>\n",
       "      <th>authors</th>\n",
       "      <th>keywords</th>\n",
       "    </tr>\n",
       "  </thead>\n",
       "  <tbody>\n",
       "    <tr>\n",
       "      <th>0</th>\n",
       "      <td>36149570</td>\n",
       "      <td>2022-09-24</td>\n",
       "      <td>[{'lastname': 'Zhou', 'firstname': 'Hong-Xia',...</td>\n",
       "      <td>[floral nectar, neonicotinoid, pollinators, sa...</td>\n",
       "    </tr>\n",
       "    <tr>\n",
       "      <th>1</th>\n",
       "      <td>36144866</td>\n",
       "      <td>2022-09-24</td>\n",
       "      <td>[{'lastname': 'Lu', 'firstname': 'Xingxing', '...</td>\n",
       "      <td>[flupyrimin derivatives, low bee-toxicity, mol...</td>\n",
       "    </tr>\n",
       "    <tr>\n",
       "      <th>2</th>\n",
       "      <td>36140100</td>\n",
       "      <td>2022-09-24</td>\n",
       "      <td>[{'lastname': 'Jiao', 'firstname': 'Shasha', '...</td>\n",
       "      <td>[broad-specific mab, immunochromatography, neo...</td>\n",
       "    </tr>\n",
       "    <tr>\n",
       "      <th>3</th>\n",
       "      <td>36127060</td>\n",
       "      <td>2022-09-21</td>\n",
       "      <td>[{'lastname': 'Zhang', 'firstname': 'Bai-Zhong...</td>\n",
       "      <td>[imidacloprid resistance, sitobion miscanthi, ...</td>\n",
       "    </tr>\n",
       "    <tr>\n",
       "      <th>4</th>\n",
       "      <td>36127049</td>\n",
       "      <td>2022-09-21</td>\n",
       "      <td>[{'lastname': 'Mezei', 'firstname': 'Imre', 'i...</td>\n",
       "      <td>[green peach aphid, insecticide and neonicotin...</td>\n",
       "    </tr>\n",
       "  </tbody>\n",
       "</table>\n",
       "</div>"
      ],
      "text/plain": [
       "  pubmed_id publication_date  \\\n",
       "0  36149570       2022-09-24   \n",
       "1  36144866       2022-09-24   \n",
       "2  36140100       2022-09-24   \n",
       "3  36127060       2022-09-21   \n",
       "4  36127049       2022-09-21   \n",
       "\n",
       "                                             authors  \\\n",
       "0  [{'lastname': 'Zhou', 'firstname': 'Hong-Xia',...   \n",
       "1  [{'lastname': 'Lu', 'firstname': 'Xingxing', '...   \n",
       "2  [{'lastname': 'Jiao', 'firstname': 'Shasha', '...   \n",
       "3  [{'lastname': 'Zhang', 'firstname': 'Bai-Zhong...   \n",
       "4  [{'lastname': 'Mezei', 'firstname': 'Imre', 'i...   \n",
       "\n",
       "                                            keywords  \n",
       "0  [floral nectar, neonicotinoid, pollinators, sa...  \n",
       "1  [flupyrimin derivatives, low bee-toxicity, mol...  \n",
       "2  [broad-specific mab, immunochromatography, neo...  \n",
       "3  [imidacloprid resistance, sitobion miscanthi, ...  \n",
       "4  [green peach aphid, insecticide and neonicotin...  "
      ]
     },
     "execution_count": 4,
     "metadata": {},
     "output_type": "execute_result"
    }
   ],
   "source": [
    "df['keywords'] = df['keywords'].apply(lambda x: [word.lower() if word is not None else word for word in x])\n",
    "# df['keywords'] = df['keywords'].apply(lambda x: [word.split(' ') if word is not None else word for word in x])\n",
    "# df['keywords'] = df['keywords'].apply(lambda x: sum([word if word is not None else [] for word in x], []))\n",
    "# df['keywords'] = df['keywords'].apply(lambda x: [word if word is not '' else word for word in x])\n",
    "df.head()"
   ]
  },
  {
   "cell_type": "markdown",
   "id": "162f237b",
   "metadata": {},
   "source": [
    "Build a word2vec model baseline with the keywords as the `sentences`. The default model is a CBOW model:"
   ]
  },
  {
   "cell_type": "code",
   "execution_count": 5,
   "id": "42c2418a",
   "metadata": {},
   "outputs": [],
   "source": [
    "cbow_model = Word2Vec(sentences=df['keywords'], vector_size=100, window=5, min_count=1, workers=4)"
   ]
  },
  {
   "cell_type": "code",
   "execution_count": 6,
   "id": "bfb99737",
   "metadata": {},
   "outputs": [
    {
     "data": {
      "text/plain": [
       "5746"
      ]
     },
     "execution_count": 6,
     "metadata": {},
     "output_type": "execute_result"
    }
   ],
   "source": [
    "# print out number of unique keywords in this corpus\n",
    "len(cbow_model.wv)"
   ]
  },
  {
   "cell_type": "code",
   "execution_count": 7,
   "id": "dcaaa2fe",
   "metadata": {
    "scrolled": true
   },
   "outputs": [
    {
     "data": {
      "text/plain": [
       "[('imidacloprid', 0),\n",
       " ('neonicotinoids', 1),\n",
       " ('neonicotinoid', 2),\n",
       " ('thiamethoxam', 3),\n",
       " ('pesticides', 4),\n",
       " ('acetamiprid', 5),\n",
       " ('clothianidin', 6),\n",
       " ('insecticide', 7),\n",
       " ('pesticide', 8),\n",
       " ('oxidative stress', 9),\n",
       " ('risk assessment', 10)]"
      ]
     },
     "execution_count": 7,
     "metadata": {},
     "output_type": "execute_result"
    }
   ],
   "source": [
    "# print out first 10 keywords and their mapping in the word vector\n",
    "[(key, value) for key, value in cbow_model.wv.key_to_index.items() if value < 11 ]"
   ]
  },
  {
   "cell_type": "code",
   "execution_count": 8,
   "id": "bf2c16ee",
   "metadata": {},
   "outputs": [
    {
     "data": {
      "text/plain": [
       "array([-5.47558814e-03,  1.15996161e-02,  8.38345941e-03,  1.31329158e-02,\n",
       "       -4.02463367e-03, -2.19030082e-02,  1.20871393e-02,  3.46199572e-02,\n",
       "       -1.87183581e-02, -9.02592205e-03,  3.06077651e-03, -2.20779702e-02,\n",
       "       -7.84096401e-03,  1.28989788e-02,  1.85582798e-03, -1.42069990e-02,\n",
       "        1.23926550e-02, -5.73959900e-03, -1.03785265e-02, -2.89911795e-02,\n",
       "        1.37930559e-02,  7.02149328e-03,  1.91754494e-02, -3.29084788e-03,\n",
       "        9.85193159e-03, -8.92621116e-04, -5.58804395e-03,  4.93477704e-03,\n",
       "       -2.02950183e-02, -5.34288818e-04,  5.27832704e-03,  1.48142877e-04,\n",
       "        9.77971964e-03, -2.45441962e-02, -8.63257516e-03,  5.86847309e-03,\n",
       "        1.13223922e-02, -1.13216983e-02, -2.00672285e-03, -1.98060852e-02,\n",
       "       -7.65720056e-03, -8.60788301e-03, -1.88366678e-02, -1.27569761e-03,\n",
       "        7.35833030e-03, -7.94641674e-03, -1.89480484e-02,  9.02668014e-03,\n",
       "        1.03715099e-02,  1.78529955e-02,  7.08234757e-06, -6.91294624e-03,\n",
       "       -8.86891875e-03, -1.70150620e-03,  3.64642328e-04,  4.48322331e-04,\n",
       "        1.34097310e-02, -1.09438803e-02, -1.20324297e-02,  1.37506099e-02,\n",
       "       -5.23102796e-03,  5.58887050e-03, -6.38581393e-03, -7.36075174e-03,\n",
       "       -1.00786472e-02,  1.75167434e-02,  7.23016076e-03,  1.44340238e-02,\n",
       "       -1.56559926e-02,  1.14532355e-02,  6.17209356e-03,  2.16139443e-02,\n",
       "        1.14992559e-02, -1.36434482e-02,  1.56780612e-02,  8.28242302e-03,\n",
       "        1.22325541e-02,  2.58747808e-04, -1.01578208e-02, -1.23140821e-02,\n",
       "       -1.28428489e-02, -7.17051269e-04, -1.10944011e-03,  1.47670219e-02,\n",
       "       -1.10654766e-02, -8.42038207e-05,  8.71875230e-03, -6.16999823e-05,\n",
       "        1.09398700e-02,  1.10239396e-02,  1.54061336e-02,  5.20921778e-03,\n",
       "        9.78526287e-03, -9.24570777e-04,  2.81251166e-02,  1.35597866e-02,\n",
       "       -2.94895610e-03, -1.59862023e-02,  2.36269971e-03,  1.23264445e-02],\n",
       "      dtype=float32)"
      ]
     },
     "execution_count": 8,
     "metadata": {},
     "output_type": "execute_result"
    }
   ],
   "source": [
    "vector = cbow_model.wv['imidacloprid']  # get numpy vector of a word\n",
    "vector"
   ]
  },
  {
   "cell_type": "markdown",
   "id": "d1fb19aa",
   "metadata": {},
   "source": [
    "Neonicotinoids popped up as the toppest related word alongside neonicotinoids as a keyword, which makes sense as imidacloprid is a chemical compound part of the neonicotinoids family. "
   ]
  },
  {
   "cell_type": "code",
   "execution_count": 9,
   "id": "6fb23dcc",
   "metadata": {},
   "outputs": [
    {
     "ename": "NameError",
     "evalue": "name 'model' is not defined",
     "output_type": "error",
     "traceback": [
      "\u001b[0;31m---------------------------------------------------------------------------\u001b[0m",
      "\u001b[0;31mNameError\u001b[0m                                 Traceback (most recent call last)",
      "\u001b[0;32m/var/folders/9w/18pcblf91c5dm9m6cz1j_m5h0000gn/T/ipykernel_75578/799356533.py\u001b[0m in \u001b[0;36m<module>\u001b[0;34m\u001b[0m\n\u001b[0;32m----> 1\u001b[0;31m \u001b[0msims\u001b[0m \u001b[0;34m=\u001b[0m \u001b[0mmodel\u001b[0m\u001b[0;34m.\u001b[0m\u001b[0mwv\u001b[0m\u001b[0;34m.\u001b[0m\u001b[0mmost_similar\u001b[0m\u001b[0;34m(\u001b[0m\u001b[0;34m'imidacloprid'\u001b[0m\u001b[0;34m,\u001b[0m \u001b[0mtopn\u001b[0m\u001b[0;34m=\u001b[0m\u001b[0;36m10\u001b[0m\u001b[0;34m)\u001b[0m  \u001b[0;31m# get other similar words\u001b[0m\u001b[0;34m\u001b[0m\u001b[0;34m\u001b[0m\u001b[0m\n\u001b[0m\u001b[1;32m      2\u001b[0m \u001b[0msims\u001b[0m\u001b[0;34m\u001b[0m\u001b[0;34m\u001b[0m\u001b[0m\n",
      "\u001b[0;31mNameError\u001b[0m: name 'model' is not defined"
     ]
    }
   ],
   "source": [
    "sims = cbow_model.wv.most_similar('imidacloprid', topn=10)  # get other similar words\n",
    "sims"
   ]
  },
  {
   "cell_type": "code",
   "execution_count": null,
   "id": "dd06c660",
   "metadata": {},
   "outputs": [],
   "source": [
    "skip_gram_model = Word2Vec(sentences=df['keywords'], vector_size=100, window=5, min_count=1, workers=4, sg=1)"
   ]
  },
  {
   "cell_type": "code",
   "execution_count": null,
   "id": "34dd87fd",
   "metadata": {},
   "outputs": [],
   "source": [
    "vector = skip_gram_model.wv['imidacloprid']  # get numpy vector of a word\n",
    "vector"
   ]
  },
  {
   "cell_type": "code",
   "execution_count": null,
   "id": "c2472148",
   "metadata": {},
   "outputs": [],
   "source": [
    "sims = skip_gram_model.wv.most_similar('imidacloprid', topn=10)  # get other similar words\n",
    "sims"
   ]
  }
 ],
 "metadata": {
  "kernelspec": {
   "display_name": "cs224n",
   "language": "python",
   "name": "cs224n"
  },
  "language_info": {
   "codemirror_mode": {
    "name": "ipython",
    "version": 3
   },
   "file_extension": ".py",
   "mimetype": "text/x-python",
   "name": "python",
   "nbconvert_exporter": "python",
   "pygments_lexer": "ipython3",
   "version": "3.7.11"
  }
 },
 "nbformat": 4,
 "nbformat_minor": 5
}
