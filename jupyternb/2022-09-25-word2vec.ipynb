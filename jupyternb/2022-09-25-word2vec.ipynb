{
 "cells": [
  {
   "cell_type": "markdown",
   "id": "1c3f70ed",
   "metadata": {},
   "source": [
    "## word2vec in code\n",
    "Packages used:\n",
    "1. `gensim.word2vec`: https://radimrehurek.com/gensim/models/word2vec.html The Gensim documentation is very nicely written.\n",
    "\n",
    "2. `pymed`: https://github.com/gijswobben/pymed\n",
    "\n",
    "I'd like to make a word2vec model on pubmed articles' keywords with the first 5000 `Neonicotinoids` qurery."
   ]
  },
  {
   "cell_type": "code",
   "execution_count": null,
   "id": "c5536ec9",
   "metadata": {},
   "outputs": [],
   "source": [
    "Word2Vec.score"
   ]
  },
  {
   "cell_type": "code",
   "execution_count": 129,
   "id": "44bc50b0",
   "metadata": {
    "scrolled": false
   },
   "outputs": [],
   "source": [
    "import pandas as pd\n",
    "from pymed import PubMed\n",
    "import numpy as np\n",
    "from gensim.models import Word2Vec\n",
    "import inspect\n",
    "# print(inspect.getsource(Word2Vec))"
   ]
  },
  {
   "cell_type": "markdown",
   "id": "d4b8ec62",
   "metadata": {},
   "source": [
    "### Pubmed API call for querying keywords of neonicotinoids associated articles\n",
    "\n",
    "Below code cited and modified from https://stackoverflow.com/questions/72006411/pubmed-fetch-article-details-to-a-daframe"
   ]
  },
  {
   "cell_type": "code",
   "execution_count": 67,
   "id": "2f9f3a73",
   "metadata": {},
   "outputs": [],
   "source": [
    "search_term = 'Neonicotinoids'\n",
    "max_results = 5000\n",
    "\n",
    "def pubmed_searcher(search_term, max_results):\n",
    "    '''\n",
    "    Search max_results # of Pubmed articles with the query (search_term)\n",
    "    '''\n",
    "    pubmed = PubMed(tool=\"PubMedSearcher\", email=\"myemail@ccc.com\")\n",
    "\n",
    "    ## PUT YOUR SEARCH TERM HERE ##\n",
    "    results = pubmed.query(search_term, max_results)\n",
    "    articleList = []\n",
    "    articleInfo = []\n",
    "\n",
    "    for article in results:\n",
    "\n",
    "    # Print the type of object we've found (can be either PubMedBookArticle or PubMedArticle).\n",
    "    # We need to convert it to dictionary with available function\n",
    "        articleDict = article.toDict()\n",
    "        articleList.append(articleDict)\n",
    "\n",
    "    # Generate list of dict records which will hold all article details that could be fetch from PUBMED API\n",
    "    for article in articleList:\n",
    "        \n",
    "    #Sometimes article['pubmed_id'] contains list separated with comma - take first pubmedId in that list - thats article pubmedId\n",
    "        pubmedId = article['pubmed_id'].partition('\\n')[0]\n",
    "        \n",
    "        # Append article info to dictionary\n",
    "        if 'keywords' in article.keys() and len(article['keywords']) != 0:\n",
    "            articleInfo.append({u'pubmed_id':pubmedId,\n",
    "                                u'publication_date':article['publication_date'], \n",
    "                                u'authors':article['authors'],\n",
    "                                u'keywords':article['keywords']})\n",
    "            \n",
    "    print('available keys from pubmed API: ' + str(article.keys()))\n",
    "    \n",
    "    df=pd.json_normalize(articleInfo)\n",
    "    \n",
    "    return df\n"
   ]
  },
  {
   "cell_type": "code",
   "execution_count": 83,
   "id": "8e4b7cd3",
   "metadata": {},
   "outputs": [
    {
     "name": "stdout",
     "output_type": "stream",
     "text": [
      "available keys from pubmed API: dict_keys(['pubmed_id', 'title', 'abstract', 'keywords', 'journal', 'publication_date', 'authors', 'methods', 'conclusions', 'results', 'copyrights', 'doi', 'xml'])\n"
     ]
    },
    {
     "data": {
      "text/html": [
       "<div>\n",
       "<style scoped>\n",
       "    .dataframe tbody tr th:only-of-type {\n",
       "        vertical-align: middle;\n",
       "    }\n",
       "\n",
       "    .dataframe tbody tr th {\n",
       "        vertical-align: top;\n",
       "    }\n",
       "\n",
       "    .dataframe thead th {\n",
       "        text-align: right;\n",
       "    }\n",
       "</style>\n",
       "<table border=\"1\" class=\"dataframe\">\n",
       "  <thead>\n",
       "    <tr style=\"text-align: right;\">\n",
       "      <th></th>\n",
       "      <th>pubmed_id</th>\n",
       "      <th>publication_date</th>\n",
       "      <th>authors</th>\n",
       "      <th>keywords</th>\n",
       "    </tr>\n",
       "  </thead>\n",
       "  <tbody>\n",
       "    <tr>\n",
       "      <th>0</th>\n",
       "      <td>36149570</td>\n",
       "      <td>2022-09-24</td>\n",
       "      <td>[{'lastname': 'Zhou', 'firstname': 'Hong-Xia',...</td>\n",
       "      <td>[Floral nectar, Neonicotinoid, Pollinators, Sa...</td>\n",
       "    </tr>\n",
       "    <tr>\n",
       "      <th>1</th>\n",
       "      <td>36144866</td>\n",
       "      <td>2022-09-24</td>\n",
       "      <td>[{'lastname': 'Lu', 'firstname': 'Xingxing', '...</td>\n",
       "      <td>[Flupyrimin derivatives, low bee-toxicity, mol...</td>\n",
       "    </tr>\n",
       "    <tr>\n",
       "      <th>2</th>\n",
       "      <td>36140100</td>\n",
       "      <td>2022-09-24</td>\n",
       "      <td>[{'lastname': 'Jiao', 'firstname': 'Shasha', '...</td>\n",
       "      <td>[broad-specific mAb, immunochromatography, neo...</td>\n",
       "    </tr>\n",
       "    <tr>\n",
       "      <th>3</th>\n",
       "      <td>36127060</td>\n",
       "      <td>2022-09-21</td>\n",
       "      <td>[{'lastname': 'Zhang', 'firstname': 'Bai-Zhong...</td>\n",
       "      <td>[Imidacloprid resistance, Sitobion miscanthi, ...</td>\n",
       "    </tr>\n",
       "    <tr>\n",
       "      <th>4</th>\n",
       "      <td>36127049</td>\n",
       "      <td>2022-09-21</td>\n",
       "      <td>[{'lastname': 'Mezei', 'firstname': 'Imre', 'i...</td>\n",
       "      <td>[Green peach aphid, Insecticide and neonicotin...</td>\n",
       "    </tr>\n",
       "  </tbody>\n",
       "</table>\n",
       "</div>"
      ],
      "text/plain": [
       "  pubmed_id publication_date  \\\n",
       "0  36149570       2022-09-24   \n",
       "1  36144866       2022-09-24   \n",
       "2  36140100       2022-09-24   \n",
       "3  36127060       2022-09-21   \n",
       "4  36127049       2022-09-21   \n",
       "\n",
       "                                             authors  \\\n",
       "0  [{'lastname': 'Zhou', 'firstname': 'Hong-Xia',...   \n",
       "1  [{'lastname': 'Lu', 'firstname': 'Xingxing', '...   \n",
       "2  [{'lastname': 'Jiao', 'firstname': 'Shasha', '...   \n",
       "3  [{'lastname': 'Zhang', 'firstname': 'Bai-Zhong...   \n",
       "4  [{'lastname': 'Mezei', 'firstname': 'Imre', 'i...   \n",
       "\n",
       "                                            keywords  \n",
       "0  [Floral nectar, Neonicotinoid, Pollinators, Sa...  \n",
       "1  [Flupyrimin derivatives, low bee-toxicity, mol...  \n",
       "2  [broad-specific mAb, immunochromatography, neo...  \n",
       "3  [Imidacloprid resistance, Sitobion miscanthi, ...  \n",
       "4  [Green peach aphid, Insecticide and neonicotin...  "
      ]
     },
     "execution_count": 83,
     "metadata": {},
     "output_type": "execute_result"
    }
   ],
   "source": [
    "# Example output\n",
    "df = pubmed_searcher(search_term, max_results)\n",
    "df.head()"
   ]
  },
  {
   "cell_type": "markdown",
   "id": "e90b28ab",
   "metadata": {},
   "source": [
    "We see that the keywords were in both upper and lower cases terms. Therefore, make simple pre-processing here to lowercase every word."
   ]
  },
  {
   "cell_type": "code",
   "execution_count": 90,
   "id": "2122bb46",
   "metadata": {},
   "outputs": [
    {
     "data": {
      "text/html": [
       "<div>\n",
       "<style scoped>\n",
       "    .dataframe tbody tr th:only-of-type {\n",
       "        vertical-align: middle;\n",
       "    }\n",
       "\n",
       "    .dataframe tbody tr th {\n",
       "        vertical-align: top;\n",
       "    }\n",
       "\n",
       "    .dataframe thead th {\n",
       "        text-align: right;\n",
       "    }\n",
       "</style>\n",
       "<table border=\"1\" class=\"dataframe\">\n",
       "  <thead>\n",
       "    <tr style=\"text-align: right;\">\n",
       "      <th></th>\n",
       "      <th>pubmed_id</th>\n",
       "      <th>publication_date</th>\n",
       "      <th>authors</th>\n",
       "      <th>keywords</th>\n",
       "    </tr>\n",
       "  </thead>\n",
       "  <tbody>\n",
       "    <tr>\n",
       "      <th>0</th>\n",
       "      <td>36149570</td>\n",
       "      <td>2022-09-24</td>\n",
       "      <td>[{'lastname': 'Zhou', 'firstname': 'Hong-Xia',...</td>\n",
       "      <td>[floral nectar, neonicotinoid, pollinators, sa...</td>\n",
       "    </tr>\n",
       "    <tr>\n",
       "      <th>1</th>\n",
       "      <td>36144866</td>\n",
       "      <td>2022-09-24</td>\n",
       "      <td>[{'lastname': 'Lu', 'firstname': 'Xingxing', '...</td>\n",
       "      <td>[flupyrimin derivatives, low bee-toxicity, mol...</td>\n",
       "    </tr>\n",
       "    <tr>\n",
       "      <th>2</th>\n",
       "      <td>36140100</td>\n",
       "      <td>2022-09-24</td>\n",
       "      <td>[{'lastname': 'Jiao', 'firstname': 'Shasha', '...</td>\n",
       "      <td>[broad-specific mab, immunochromatography, neo...</td>\n",
       "    </tr>\n",
       "    <tr>\n",
       "      <th>3</th>\n",
       "      <td>36127060</td>\n",
       "      <td>2022-09-21</td>\n",
       "      <td>[{'lastname': 'Zhang', 'firstname': 'Bai-Zhong...</td>\n",
       "      <td>[imidacloprid resistance, sitobion miscanthi, ...</td>\n",
       "    </tr>\n",
       "    <tr>\n",
       "      <th>4</th>\n",
       "      <td>36127049</td>\n",
       "      <td>2022-09-21</td>\n",
       "      <td>[{'lastname': 'Mezei', 'firstname': 'Imre', 'i...</td>\n",
       "      <td>[green peach aphid, insecticide and neonicotin...</td>\n",
       "    </tr>\n",
       "  </tbody>\n",
       "</table>\n",
       "</div>"
      ],
      "text/plain": [
       "  pubmed_id publication_date  \\\n",
       "0  36149570       2022-09-24   \n",
       "1  36144866       2022-09-24   \n",
       "2  36140100       2022-09-24   \n",
       "3  36127060       2022-09-21   \n",
       "4  36127049       2022-09-21   \n",
       "\n",
       "                                             authors  \\\n",
       "0  [{'lastname': 'Zhou', 'firstname': 'Hong-Xia',...   \n",
       "1  [{'lastname': 'Lu', 'firstname': 'Xingxing', '...   \n",
       "2  [{'lastname': 'Jiao', 'firstname': 'Shasha', '...   \n",
       "3  [{'lastname': 'Zhang', 'firstname': 'Bai-Zhong...   \n",
       "4  [{'lastname': 'Mezei', 'firstname': 'Imre', 'i...   \n",
       "\n",
       "                                            keywords  \n",
       "0  [floral nectar, neonicotinoid, pollinators, sa...  \n",
       "1  [flupyrimin derivatives, low bee-toxicity, mol...  \n",
       "2  [broad-specific mab, immunochromatography, neo...  \n",
       "3  [imidacloprid resistance, sitobion miscanthi, ...  \n",
       "4  [green peach aphid, insecticide and neonicotin...  "
      ]
     },
     "execution_count": 90,
     "metadata": {},
     "output_type": "execute_result"
    }
   ],
   "source": [
    "df['keywords'] = df['keywords'].apply(lambda x: [word.lower() if word is not None else word for word in x])\n",
    "df.head()"
   ]
  },
  {
   "cell_type": "markdown",
   "id": "162f237b",
   "metadata": {},
   "source": [
    "Build a word2vec model baseline with the keywords as the `sentences`. The default model is a CBOW model:"
   ]
  },
  {
   "cell_type": "code",
   "execution_count": 120,
   "id": "42c2418a",
   "metadata": {},
   "outputs": [],
   "source": [
    "cbow_model = Word2Vec(sentences=df['keywords'], vector_size=100, window=5, min_count=1, workers=4)"
   ]
  },
  {
   "cell_type": "code",
   "execution_count": 121,
   "id": "bfb99737",
   "metadata": {},
   "outputs": [
    {
     "data": {
      "text/plain": [
       "5746"
      ]
     },
     "execution_count": 121,
     "metadata": {},
     "output_type": "execute_result"
    }
   ],
   "source": [
    "# print out number of unique keywords in this corpus\n",
    "len(cbow_model.wv)"
   ]
  },
  {
   "cell_type": "code",
   "execution_count": 122,
   "id": "dcaaa2fe",
   "metadata": {
    "scrolled": true
   },
   "outputs": [
    {
     "data": {
      "text/plain": [
       "[('imidacloprid', 0),\n",
       " ('neonicotinoids', 1),\n",
       " ('neonicotinoid', 2),\n",
       " ('thiamethoxam', 3),\n",
       " ('pesticides', 4),\n",
       " ('acetamiprid', 5),\n",
       " ('clothianidin', 6),\n",
       " ('insecticide', 7),\n",
       " ('pesticide', 8),\n",
       " ('oxidative stress', 9),\n",
       " ('risk assessment', 10)]"
      ]
     },
     "execution_count": 122,
     "metadata": {},
     "output_type": "execute_result"
    }
   ],
   "source": [
    "# print out first 10 keywords and their mapping in the word vector\n",
    "[(key, value) for key, value in cbow_model.wv.key_to_index.items() if value < 11 ]"
   ]
  },
  {
   "cell_type": "code",
   "execution_count": 123,
   "id": "bf2c16ee",
   "metadata": {},
   "outputs": [
    {
     "data": {
      "text/plain": [
       "array([-5.37396967e-03,  1.15496507e-02,  8.31562281e-03,  1.31636309e-02,\n",
       "       -4.04892303e-03, -2.18364391e-02,  1.21429665e-02,  3.45299169e-02,\n",
       "       -1.87110025e-02, -8.97512678e-03,  3.01831122e-03, -2.21252199e-02,\n",
       "       -7.83312786e-03,  1.29188178e-02,  1.86460989e-03, -1.42153082e-02,\n",
       "        1.23566343e-02, -5.74537599e-03, -1.03757735e-02, -2.89883446e-02,\n",
       "        1.38254678e-02,  7.03370571e-03,  1.92135628e-02, -3.27003119e-03,\n",
       "        9.90342069e-03, -9.10659030e-04, -5.58727281e-03,  4.98251989e-03,\n",
       "       -2.04840060e-02, -5.40945039e-04,  5.26142027e-03,  1.53016634e-04,\n",
       "        9.84102208e-03, -2.45484244e-02, -8.71882495e-03,  5.75637119e-03,\n",
       "        1.13511411e-02, -1.12676071e-02, -1.99815654e-03, -1.98061727e-02,\n",
       "       -7.65244802e-03, -8.65007006e-03, -1.88368708e-02, -1.25759922e-03,\n",
       "        7.34956563e-03, -7.94593710e-03, -1.89446546e-02,  9.05300584e-03,\n",
       "        1.03714652e-02,  1.78687852e-02, -1.29648324e-05, -6.96580065e-03,\n",
       "       -8.87754653e-03, -1.71492877e-03,  3.70587863e-04,  4.73174790e-04,\n",
       "        1.33667868e-02, -1.09533025e-02, -1.20270811e-02,  1.37904435e-02,\n",
       "       -5.22281788e-03,  5.64979855e-03, -6.34181174e-03, -7.35079497e-03,\n",
       "       -1.01313312e-02,  1.75504256e-02,  7.20081571e-03,  1.44657493e-02,\n",
       "       -1.56702939e-02,  1.14196762e-02,  6.19164063e-03,  2.16220431e-02,\n",
       "        1.15253441e-02, -1.36413164e-02,  1.57174524e-02,  8.25442467e-03,\n",
       "        1.22616766e-02,  2.37488814e-04, -1.01375487e-02, -1.23082157e-02,\n",
       "       -1.27820764e-02, -6.82272774e-04, -1.18998101e-03,  1.47844171e-02,\n",
       "       -1.10226432e-02,  4.88102387e-06,  8.68911017e-03,  1.98622583e-05,\n",
       "        1.10137500e-02,  1.09934341e-02,  1.53141608e-02,  5.34771616e-03,\n",
       "        9.82939918e-03, -8.80295876e-04,  2.80808918e-02,  1.36329504e-02,\n",
       "       -2.95518292e-03, -1.60338469e-02,  2.47772038e-03,  1.23737268e-02],\n",
       "      dtype=float32)"
      ]
     },
     "execution_count": 123,
     "metadata": {},
     "output_type": "execute_result"
    }
   ],
   "source": [
    "vector = cbow_model.wv['imidacloprid']  # get numpy vector of a word\n",
    "vector"
   ]
  },
  {
   "cell_type": "markdown",
   "id": "d1fb19aa",
   "metadata": {},
   "source": [
    "Neonicotinoids popped up as the toppest related word alongside neonicotinoids as a keyword, which makes sense as imidacloprid is a chemical compound part of the neonicotinoids family. "
   ]
  },
  {
   "cell_type": "code",
   "execution_count": 124,
   "id": "6fb23dcc",
   "metadata": {},
   "outputs": [
    {
     "data": {
      "text/plain": [
       "[('neonicotinoids', 0.7831562757492065),\n",
       " ('neonicotinoid', 0.7481412291526794),\n",
       " ('pesticides', 0.6898139119148254),\n",
       " ('insecticide', 0.6359738111495972),\n",
       " ('insecticides', 0.6348689198493958),\n",
       " ('clothianidin', 0.6328756213188171),\n",
       " ('pesticide', 0.6214989423751831),\n",
       " ('neonicotinoid insecticides', 0.6010925769805908),\n",
       " ('acetamiprid', 0.6006953120231628),\n",
       " ('oxidative stress', 0.5956632494926453)]"
      ]
     },
     "execution_count": 124,
     "metadata": {},
     "output_type": "execute_result"
    }
   ],
   "source": [
    "sims = model.wv.most_similar('imidacloprid', topn=10)  # get other similar words\n",
    "sims"
   ]
  },
  {
   "cell_type": "code",
   "execution_count": 125,
   "id": "dd06c660",
   "metadata": {},
   "outputs": [],
   "source": [
    "skip_gram_model = Word2Vec(sentences=df['keywords'], vector_size=100, window=5, min_count=1, workers=4, sg=1)"
   ]
  },
  {
   "cell_type": "code",
   "execution_count": 127,
   "id": "34dd87fd",
   "metadata": {},
   "outputs": [
    {
     "data": {
      "text/plain": [
       "array([-0.05417468,  0.07851605,  0.07388604,  0.0212368 ,  0.00612038,\n",
       "       -0.06378842,  0.03000311,  0.14596061, -0.09644782, -0.02864049,\n",
       "       -0.02910103, -0.1225659 , -0.0005069 ,  0.04263362,  0.05482033,\n",
       "       -0.05720612,  0.06408644, -0.02621115,  0.00274776, -0.13921742,\n",
       "        0.05886362,  0.02096497,  0.10082798, -0.04196379,  0.02531511,\n",
       "        0.00195682, -0.05104769, -0.01590193, -0.05362089, -0.00608162,\n",
       "        0.05183888,  0.00088851,  0.00391552, -0.09756049, -0.00478361,\n",
       "        0.02779034,  0.01438181, -0.01623379,  0.00868666, -0.09539924,\n",
       "        0.00047635, -0.07378464, -0.06715459,  0.0074744 ,  0.02881611,\n",
       "       -0.04243603, -0.09174044,  0.00770856,  0.0350023 ,  0.04214233,\n",
       "        0.0482609 , -0.05280864, -0.0599121 , -0.02204715, -0.02581426,\n",
       "        0.04092196,  0.05552968, -0.01496538, -0.05778163,  0.01301325,\n",
       "        0.00144699,  0.01876798,  0.00766746,  0.00017886, -0.05237012,\n",
       "        0.08727906,  0.04093103,  0.06111833, -0.0450944 ,  0.08569754,\n",
       "       -0.00322744,  0.06005951,  0.06630369, -0.02348529,  0.06531063,\n",
       "        0.04974589,  0.02384545,  0.01387639, -0.06600248, -0.01936343,\n",
       "       -0.03795666, -0.02890909, -0.02263533,  0.07843749, -0.02354581,\n",
       "       -0.0089439 ,  0.02872424,  0.04060833,  0.04294664,  0.01017669,\n",
       "        0.07875461,  0.02871812,  0.02629138,  0.0147338 ,  0.14169906,\n",
       "        0.07667568,  0.04472331, -0.06165359, -0.00924671,  0.04503218],\n",
       "      dtype=float32)"
      ]
     },
     "execution_count": 127,
     "metadata": {},
     "output_type": "execute_result"
    }
   ],
   "source": [
    "vector = skip_gram_model.wv['imidacloprid']  # get numpy vector of a word\n",
    "vector"
   ]
  },
  {
   "cell_type": "code",
   "execution_count": 128,
   "id": "c2472148",
   "metadata": {},
   "outputs": [
    {
     "data": {
      "text/plain": [
       "[('neonicotinoids', 0.9889056086540222),\n",
       " ('neonicotinoid', 0.9860917925834656),\n",
       " ('pesticides', 0.9817160964012146),\n",
       " ('pesticide', 0.9788943529129028),\n",
       " ('oxidative stress', 0.9787634015083313),\n",
       " ('insecticide', 0.9768016934394836),\n",
       " ('insecticides', 0.9750645160675049),\n",
       " ('neonicotinoid insecticides', 0.9746518731117249),\n",
       " ('clothianidin', 0.9737898707389832),\n",
       " ('thiamethoxam', 0.9717805981636047)]"
      ]
     },
     "execution_count": 128,
     "metadata": {},
     "output_type": "execute_result"
    }
   ],
   "source": [
    "sims = skip_gram_model.wv.most_similar('imidacloprid', topn=10)  # get other similar words\n",
    "sims"
   ]
  }
 ],
 "metadata": {
  "kernelspec": {
   "display_name": "cs224n",
   "language": "python",
   "name": "cs224n"
  },
  "language_info": {
   "codemirror_mode": {
    "name": "ipython",
    "version": 3
   },
   "file_extension": ".py",
   "mimetype": "text/x-python",
   "name": "python",
   "nbconvert_exporter": "python",
   "pygments_lexer": "ipython3",
   "version": "3.7.11"
  }
 },
 "nbformat": 4,
 "nbformat_minor": 5
}
